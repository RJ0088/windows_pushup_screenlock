{
 "cells": [
  {
   "cell_type": "code",
   "execution_count": 12,
   "metadata": {},
   "outputs": [],
   "source": [
    "import numpy as np\n",
    "import glob\n",
    "import os"
   ]
  },
  {
   "cell_type": "code",
   "execution_count": 17,
   "metadata": {},
   "outputs": [
    {
     "name": "stdout",
     "output_type": "stream",
     "text": [
      "ClearML Task: created new task id=99d3ead9e6484cfd954d199f2b969c37\n",
      "ClearML results page: https://app.community.clear.ml/projects/b63fc03619e4435ea33998df02b9029c/experiments/99d3ead9e6484cfd954d199f2b969c37/output/log\n",
      "ClearML new version available: upgrade to v1.1.5 is recommended!\n"
     ]
    },
    {
     "data": {
      "text/plain": [
       "<clearml.task.Task at 0x6d205778>"
      ]
     },
     "execution_count": 17,
     "metadata": {},
     "output_type": "execute_result"
    },
    {
     "name": "stdout",
     "output_type": "stream",
     "text": [
      "ClearML Monitor: GPU monitoring failed getting GPU reading, switching off GPU monitoring\n"
     ]
    }
   ],
   "source": [
    "from clearml import Task\n",
    "Task.init(project_name='pushup_training', task_name='notebook_training')"
   ]
  },
  {
   "cell_type": "code",
   "execution_count": 18,
   "metadata": {},
   "outputs": [],
   "source": [
    "landmarks = []\n",
    "labels = []\n",
    "\n",
    "for csv_name in glob.glob('../landmarks/**/*.csv'):\n",
    "    landmarks.append(np.loadtxt(csv_name, delimiter=','))\n",
    "    labels.append(os.path.basename(os.path.dirname(csv_name)))"
   ]
  },
  {
   "cell_type": "code",
   "execution_count": null,
   "metadata": {},
   "outputs": [],
   "source": []
  }
 ],
 "metadata": {
  "interpreter": {
   "hash": "0bff22e2c0fa29806f378d28fc6a2d82670d8f938ff3bdb489e22c4ea73f5adf"
  },
  "kernelspec": {
   "display_name": "Python 3.9.2 32-bit ('.venv')",
   "name": "python3"
  },
  "language_info": {
   "codemirror_mode": {
    "name": "ipython",
    "version": 3
   },
   "file_extension": ".py",
   "mimetype": "text/x-python",
   "name": "python",
   "nbconvert_exporter": "python",
   "pygments_lexer": "ipython3",
   "version": "3.9.2"
  },
  "orig_nbformat": 4
 },
 "nbformat": 4,
 "nbformat_minor": 2
}